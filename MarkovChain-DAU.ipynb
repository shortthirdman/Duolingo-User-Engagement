{
 "cells": [
  {
   "cell_type": "markdown",
   "id": "79e974ea-540d-4a3c-9806-18562abbeab7",
   "metadata": {},
   "source": [
    "### Modeling DAU with Markov Chain"
   ]
  },
  {
   "cell_type": "markdown",
   "id": "6ebf01aa-2f42-4df0-ac8e-7a5265476731",
   "metadata": {},
   "source": [
    "Doubtlessly, **DAU**, **WAU**, and **MAU** — daily, weekly, and monthly active users — are critical business metrics. Cost estimations often require DAU forecasts.\n",
    "\n",
    "Prediction using Duolingo’s growth model - this approach is better compared to standard time-series forecasting methods, and can be adjusted the prediction according to your teams' plans (e.g., marketing, activation, product teams)."
   ]
  },
  {
   "cell_type": "markdown",
   "id": "0c0490dd-b472-4058-922a-76747c41f634",
   "metadata": {},
   "source": [
    "#### Methodology"
   ]
  },
  {
   "cell_type": "markdown",
   "id": "081ee5f7-2ae7-4aa3-b2d2-4877e3dcbe6a",
   "metadata": {},
   "source": [
    "A quick recap on how the [Duolingo’s growth model](https://blog.duolingo.com/growth-model-duolingo/) works. At day d (d = 1, 2, … ) of a user’s lifetime, the user can be in one of the following 7 (mutually-exclusive) states: `new`, `current`, `reactivated`, `resurrected`, `at_risk_wau`, `at_risk_mau`, `dormant`. The states are defined according to indicators of whether a user was active today, in the last 7 days, or in the last 30 days.\n",
    "\n",
    "Having these states defined (as a set `S`), we can consider user behavior as a `Markov chain`. Here’s an example of a user’s trajectory: `new→ current→ current→ at_risk_wau→...→ at_risk_mau→...→ dormant`. Let M be a transition matrix associated with this Markov process: `m_{i, j} = P(s_j | s_i)` are the probabilities that a user moves to state `s_j` right after being at state `s_i`, where `s_i, s_j ∈ S`. Such a matrix is inferred from the historical data."
   ]
  },
  {
   "cell_type": "code",
   "execution_count": null,
   "id": "8f0adbc8-91d3-4f7b-9ba4-27b664514c13",
   "metadata": {},
   "outputs": [],
   "source": []
  }
 ],
 "metadata": {
  "kernelspec": {
   "display_name": "Python 3 (ipykernel)",
   "language": "python",
   "name": "python3"
  },
  "language_info": {
   "codemirror_mode": {
    "name": "ipython",
    "version": 3
   },
   "file_extension": ".py",
   "mimetype": "text/x-python",
   "name": "python",
   "nbconvert_exporter": "python",
   "pygments_lexer": "ipython3",
   "version": "3.12.4"
  }
 },
 "nbformat": 4,
 "nbformat_minor": 5
}
